{
 "cells": [
  {
   "cell_type": "code",
   "execution_count": 1,
   "id": "ab83f045",
   "metadata": {
    "execution": {
     "iopub.execute_input": "2024-05-28T20:24:44.203334Z",
     "iopub.status.busy": "2024-05-28T20:24:44.202779Z",
     "iopub.status.idle": "2024-05-28T20:24:45.395381Z",
     "shell.execute_reply": "2024-05-28T20:24:45.393910Z"
    },
    "papermill": {
     "duration": 1.20241,
     "end_time": "2024-05-28T20:24:45.398166",
     "exception": false,
     "start_time": "2024-05-28T20:24:44.195756",
     "status": "completed"
    },
    "tags": []
   },
   "outputs": [
    {
     "name": "stdout",
     "output_type": "stream",
     "text": [
      "/kaggle/input/employee-data-analysis/manager_survey_data.csv\n",
      "/kaggle/input/employee-data-analysis/employee_survey_data.csv\n",
      "/kaggle/input/employee-data-analysis/general_data.csv\n",
      "Index(['Age', 'Attrition', 'BusinessTravel', 'Department', 'DistanceFromHome',\n",
      "       'Education', 'EducationField', 'EmployeeCount', 'EmployeeID', 'Gender',\n",
      "       'JobLevel', 'JobRole', 'MaritalStatus', 'MonthlyIncome',\n",
      "       'NumCompaniesWorked', 'Over18', 'PercentSalaryHike', 'StandardHours',\n",
      "       'StockOptionLevel', 'TotalWorkingYears', 'TrainingTimesLastYear',\n",
      "       'YearsAtCompany', 'YearsSinceLastPromotion', 'YearsWithCurrManager'],\n",
      "      dtype='object')\n"
     ]
    }
   ],
   "source": [
    "import numpy as np # linear algebra\n",
    "import pandas as pd # data processing, CSV file I/O (e.g. pd.read_csv)\n",
    "import os\n",
    "for dirname, _, filenames in os.walk('/kaggle/input'):\n",
    "    for filename in filenames:\n",
    "        print(os.path.join(dirname, filename))\n",
    "# Carregar o arquivo CSV em um DataFrame\n",
    "df = pd.read_csv('/kaggle/input/employee-data-analysis/general_data.csv')\n",
    "\n",
    "\n",
    "# Visualizar as colunas\n",
    "print(df.columns)"
   ]
  },
  {
   "cell_type": "code",
   "execution_count": 2,
   "id": "58e1c87e",
   "metadata": {
    "execution": {
     "iopub.execute_input": "2024-05-28T20:24:45.406533Z",
     "iopub.status.busy": "2024-05-28T20:24:45.406039Z",
     "iopub.status.idle": "2024-05-28T20:24:45.421754Z",
     "shell.execute_reply": "2024-05-28T20:24:45.420281Z"
    },
    "papermill": {
     "duration": 0.022869,
     "end_time": "2024-05-28T20:24:45.424323",
     "exception": false,
     "start_time": "2024-05-28T20:24:45.401454",
     "status": "completed"
    },
    "tags": []
   },
   "outputs": [],
   "source": [
    "# Renomeando as colunas\n",
    "df = df.rename(columns={\n",
    "    'Age': 'Idade',\n",
    "    'Attrition': 'Atrito',\n",
    "    'BusinessTravel': 'ViagemNegocios',\n",
    "    'Department': 'Departamento',\n",
    "    'DistanceFromHome': 'DistanciaCasa',\n",
    "    'Education': 'Educacao',\n",
    "    'EducationField': 'AreaEducacao',\n",
    "    'EmployeeCount': 'ContagemFuncionarios',\n",
    "    'EmployeeID': 'IDFuncionario',\n",
    "    'Gender': 'Genero',\n",
    "    'JobLevel': 'NivelCargo',\n",
    "    'JobRole': 'Cargo',\n",
    "    'MaritalStatus': 'EstadoCivil',\n",
    "    'MonthlyIncome': 'RendaMensal',\n",
    "    'NumCompaniesWorked': 'NumEmpresasAnteriores',\n",
    "    'Over18': 'Maioridade',\n",
    "    'PercentSalaryHike': 'AumentoPercentualSalario',\n",
    "    'StandardHours': 'HorasPadrao',\n",
    "    'StockOptionLevel': 'NivelOpcaoAcoes',\n",
    "    'TotalWorkingYears': 'AnosTrabalhadosTotal',\n",
    "    'TrainingTimesLastYear': 'NumTreinamentosAnoPassado',\n",
    "    'YearsAtCompany': 'AnosNaEmpresa',\n",
    "    'YearsSinceLastPromotion': 'AnosDesdeUltimaPromocao',\n",
    "    'YearsWithCurrManager': 'AnosComGerenteAtual'\n",
    "})\n"
   ]
  },
  {
   "cell_type": "code",
   "execution_count": 3,
   "id": "bdf04451",
   "metadata": {
    "execution": {
     "iopub.execute_input": "2024-05-28T20:24:45.431927Z",
     "iopub.status.busy": "2024-05-28T20:24:45.431508Z",
     "iopub.status.idle": "2024-05-28T20:24:45.437971Z",
     "shell.execute_reply": "2024-05-28T20:24:45.436856Z"
    },
    "papermill": {
     "duration": 0.01405,
     "end_time": "2024-05-28T20:24:45.441299",
     "exception": false,
     "start_time": "2024-05-28T20:24:45.427249",
     "status": "completed"
    },
    "tags": []
   },
   "outputs": [
    {
     "name": "stdout",
     "output_type": "stream",
     "text": [
      "Index(['Idade', 'Atrito', 'ViagemNegocios', 'Departamento', 'DistanciaCasa',\n",
      "       'Educacao', 'AreaEducacao', 'ContagemFuncionarios', 'IDFuncionario',\n",
      "       'Genero', 'NivelCargo', 'Cargo', 'EstadoCivil', 'RendaMensal',\n",
      "       'NumEmpresasAnteriores', 'Maioridade', 'AumentoPercentualSalario',\n",
      "       'HorasPadrao', 'NivelOpcaoAcoes', 'AnosTrabalhadosTotal',\n",
      "       'NumTreinamentosAnoPassado', 'AnosNaEmpresa', 'AnosDesdeUltimaPromocao',\n",
      "       'AnosComGerenteAtual'],\n",
      "      dtype='object')\n"
     ]
    }
   ],
   "source": [
    "print(df.columns)"
   ]
  },
  {
   "cell_type": "code",
   "execution_count": 4,
   "id": "19518104",
   "metadata": {
    "execution": {
     "iopub.execute_input": "2024-05-28T20:24:45.449801Z",
     "iopub.status.busy": "2024-05-28T20:24:45.449378Z",
     "iopub.status.idle": "2024-05-28T20:24:45.479994Z",
     "shell.execute_reply": "2024-05-28T20:24:45.478450Z"
    },
    "papermill": {
     "duration": 0.038128,
     "end_time": "2024-05-28T20:24:45.482669",
     "exception": false,
     "start_time": "2024-05-28T20:24:45.444541",
     "status": "completed"
    },
    "tags": []
   },
   "outputs": [
    {
     "name": "stdout",
     "output_type": "stream",
     "text": [
      "Distribuição de idade dos Funcionários\n"
     ]
    },
    {
     "data": {
      "text/html": [
       "<div>\n",
       "<style scoped>\n",
       "    .dataframe tbody tr th:only-of-type {\n",
       "        vertical-align: middle;\n",
       "    }\n",
       "\n",
       "    .dataframe tbody tr th {\n",
       "        vertical-align: top;\n",
       "    }\n",
       "\n",
       "    .dataframe thead th {\n",
       "        text-align: right;\n",
       "    }\n",
       "</style>\n",
       "<table border=\"1\" class=\"dataframe\">\n",
       "  <thead>\n",
       "    <tr style=\"text-align: right;\">\n",
       "      <th></th>\n",
       "      <th>Idade</th>\n",
       "      <th>Quantidade</th>\n",
       "    </tr>\n",
       "  </thead>\n",
       "  <tbody>\n",
       "    <tr>\n",
       "      <th>0</th>\n",
       "      <td>35</td>\n",
       "      <td>234</td>\n",
       "    </tr>\n",
       "    <tr>\n",
       "      <th>1</th>\n",
       "      <td>34</td>\n",
       "      <td>231</td>\n",
       "    </tr>\n",
       "    <tr>\n",
       "      <th>2</th>\n",
       "      <td>31</td>\n",
       "      <td>207</td>\n",
       "    </tr>\n",
       "    <tr>\n",
       "      <th>3</th>\n",
       "      <td>36</td>\n",
       "      <td>207</td>\n",
       "    </tr>\n",
       "    <tr>\n",
       "      <th>4</th>\n",
       "      <td>29</td>\n",
       "      <td>204</td>\n",
       "    </tr>\n",
       "    <tr>\n",
       "      <th>5</th>\n",
       "      <td>32</td>\n",
       "      <td>183</td>\n",
       "    </tr>\n",
       "    <tr>\n",
       "      <th>6</th>\n",
       "      <td>30</td>\n",
       "      <td>180</td>\n",
       "    </tr>\n",
       "    <tr>\n",
       "      <th>7</th>\n",
       "      <td>38</td>\n",
       "      <td>174</td>\n",
       "    </tr>\n",
       "    <tr>\n",
       "      <th>8</th>\n",
       "      <td>33</td>\n",
       "      <td>174</td>\n",
       "    </tr>\n",
       "    <tr>\n",
       "      <th>9</th>\n",
       "      <td>40</td>\n",
       "      <td>171</td>\n",
       "    </tr>\n",
       "    <tr>\n",
       "      <th>10</th>\n",
       "      <td>37</td>\n",
       "      <td>150</td>\n",
       "    </tr>\n",
       "    <tr>\n",
       "      <th>11</th>\n",
       "      <td>28</td>\n",
       "      <td>144</td>\n",
       "    </tr>\n",
       "    <tr>\n",
       "      <th>12</th>\n",
       "      <td>27</td>\n",
       "      <td>144</td>\n",
       "    </tr>\n",
       "    <tr>\n",
       "      <th>13</th>\n",
       "      <td>42</td>\n",
       "      <td>138</td>\n",
       "    </tr>\n",
       "    <tr>\n",
       "      <th>14</th>\n",
       "      <td>39</td>\n",
       "      <td>126</td>\n",
       "    </tr>\n",
       "    <tr>\n",
       "      <th>15</th>\n",
       "      <td>45</td>\n",
       "      <td>123</td>\n",
       "    </tr>\n",
       "    <tr>\n",
       "      <th>16</th>\n",
       "      <td>41</td>\n",
       "      <td>120</td>\n",
       "    </tr>\n",
       "    <tr>\n",
       "      <th>17</th>\n",
       "      <td>26</td>\n",
       "      <td>117</td>\n",
       "    </tr>\n",
       "    <tr>\n",
       "      <th>18</th>\n",
       "      <td>46</td>\n",
       "      <td>99</td>\n",
       "    </tr>\n",
       "    <tr>\n",
       "      <th>19</th>\n",
       "      <td>44</td>\n",
       "      <td>99</td>\n",
       "    </tr>\n",
       "    <tr>\n",
       "      <th>20</th>\n",
       "      <td>43</td>\n",
       "      <td>96</td>\n",
       "    </tr>\n",
       "    <tr>\n",
       "      <th>21</th>\n",
       "      <td>50</td>\n",
       "      <td>90</td>\n",
       "    </tr>\n",
       "    <tr>\n",
       "      <th>22</th>\n",
       "      <td>24</td>\n",
       "      <td>78</td>\n",
       "    </tr>\n",
       "    <tr>\n",
       "      <th>23</th>\n",
       "      <td>25</td>\n",
       "      <td>78</td>\n",
       "    </tr>\n",
       "    <tr>\n",
       "      <th>24</th>\n",
       "      <td>49</td>\n",
       "      <td>72</td>\n",
       "    </tr>\n",
       "    <tr>\n",
       "      <th>25</th>\n",
       "      <td>47</td>\n",
       "      <td>72</td>\n",
       "    </tr>\n",
       "    <tr>\n",
       "      <th>26</th>\n",
       "      <td>55</td>\n",
       "      <td>66</td>\n",
       "    </tr>\n",
       "    <tr>\n",
       "      <th>27</th>\n",
       "      <td>48</td>\n",
       "      <td>57</td>\n",
       "    </tr>\n",
       "    <tr>\n",
       "      <th>28</th>\n",
       "      <td>51</td>\n",
       "      <td>57</td>\n",
       "    </tr>\n",
       "    <tr>\n",
       "      <th>29</th>\n",
       "      <td>53</td>\n",
       "      <td>57</td>\n",
       "    </tr>\n",
       "    <tr>\n",
       "      <th>30</th>\n",
       "      <td>52</td>\n",
       "      <td>54</td>\n",
       "    </tr>\n",
       "    <tr>\n",
       "      <th>31</th>\n",
       "      <td>54</td>\n",
       "      <td>54</td>\n",
       "    </tr>\n",
       "    <tr>\n",
       "      <th>32</th>\n",
       "      <td>22</td>\n",
       "      <td>48</td>\n",
       "    </tr>\n",
       "    <tr>\n",
       "      <th>33</th>\n",
       "      <td>58</td>\n",
       "      <td>42</td>\n",
       "    </tr>\n",
       "    <tr>\n",
       "      <th>34</th>\n",
       "      <td>23</td>\n",
       "      <td>42</td>\n",
       "    </tr>\n",
       "    <tr>\n",
       "      <th>35</th>\n",
       "      <td>56</td>\n",
       "      <td>42</td>\n",
       "    </tr>\n",
       "    <tr>\n",
       "      <th>36</th>\n",
       "      <td>21</td>\n",
       "      <td>39</td>\n",
       "    </tr>\n",
       "    <tr>\n",
       "      <th>37</th>\n",
       "      <td>20</td>\n",
       "      <td>33</td>\n",
       "    </tr>\n",
       "    <tr>\n",
       "      <th>38</th>\n",
       "      <td>59</td>\n",
       "      <td>30</td>\n",
       "    </tr>\n",
       "    <tr>\n",
       "      <th>39</th>\n",
       "      <td>19</td>\n",
       "      <td>27</td>\n",
       "    </tr>\n",
       "    <tr>\n",
       "      <th>40</th>\n",
       "      <td>18</td>\n",
       "      <td>24</td>\n",
       "    </tr>\n",
       "    <tr>\n",
       "      <th>41</th>\n",
       "      <td>60</td>\n",
       "      <td>15</td>\n",
       "    </tr>\n",
       "    <tr>\n",
       "      <th>42</th>\n",
       "      <td>57</td>\n",
       "      <td>12</td>\n",
       "    </tr>\n",
       "  </tbody>\n",
       "</table>\n",
       "</div>"
      ],
      "text/plain": [
       "    Idade  Quantidade\n",
       "0      35         234\n",
       "1      34         231\n",
       "2      31         207\n",
       "3      36         207\n",
       "4      29         204\n",
       "5      32         183\n",
       "6      30         180\n",
       "7      38         174\n",
       "8      33         174\n",
       "9      40         171\n",
       "10     37         150\n",
       "11     28         144\n",
       "12     27         144\n",
       "13     42         138\n",
       "14     39         126\n",
       "15     45         123\n",
       "16     41         120\n",
       "17     26         117\n",
       "18     46          99\n",
       "19     44          99\n",
       "20     43          96\n",
       "21     50          90\n",
       "22     24          78\n",
       "23     25          78\n",
       "24     49          72\n",
       "25     47          72\n",
       "26     55          66\n",
       "27     48          57\n",
       "28     51          57\n",
       "29     53          57\n",
       "30     52          54\n",
       "31     54          54\n",
       "32     22          48\n",
       "33     58          42\n",
       "34     23          42\n",
       "35     56          42\n",
       "36     21          39\n",
       "37     20          33\n",
       "38     59          30\n",
       "39     19          27\n",
       "40     18          24\n",
       "41     60          15\n",
       "42     57          12"
      ]
     },
     "execution_count": 4,
     "metadata": {},
     "output_type": "execute_result"
    }
   ],
   "source": [
    "# Distribuição da idade dos funcionários\n",
    "print('Distribuição de idade dos Funcionários')\n",
    "idade_distribution = df['Idade'].value_counts().reset_index(name='Quantidade')\n",
    "idade_distribution"
   ]
  },
  {
   "cell_type": "code",
   "execution_count": 5,
   "id": "1bf0785a",
   "metadata": {
    "execution": {
     "iopub.execute_input": "2024-05-28T20:24:45.492878Z",
     "iopub.status.busy": "2024-05-28T20:24:45.492461Z",
     "iopub.status.idle": "2024-05-28T20:24:45.506429Z",
     "shell.execute_reply": "2024-05-28T20:24:45.505024Z"
    },
    "papermill": {
     "duration": 0.021889,
     "end_time": "2024-05-28T20:24:45.508815",
     "exception": false,
     "start_time": "2024-05-28T20:24:45.486926",
     "status": "completed"
    },
    "tags": []
   },
   "outputs": [
    {
     "name": "stdout",
     "output_type": "stream",
     "text": [
      "Distribuição de idade dos Funcionários\n"
     ]
    },
    {
     "data": {
      "text/plain": [
       "Educacao\n",
       "3    1716\n",
       "4    1194\n",
       "2     846\n",
       "1     510\n",
       "5     144\n",
       "Name: count, dtype: int64"
      ]
     },
     "execution_count": 5,
     "metadata": {},
     "output_type": "execute_result"
    }
   ],
   "source": [
    "# Distribuição por gênero, estado civil e educação\n",
    "print('Distribuição de idade dos Funcionários')\n",
    "genero_distribution = df['Genero'].value_counts()\n",
    "estadocivil_distribution = df['EstadoCivil'].value_counts()\n",
    "education_distribution = df['Educacao'].value_counts()\n",
    "\n",
    "genero_distribution\n",
    "estadocivil_distribution \n",
    "education_distribution"
   ]
  },
  {
   "cell_type": "code",
   "execution_count": 6,
   "id": "dc92c93e",
   "metadata": {
    "execution": {
     "iopub.execute_input": "2024-05-28T20:24:45.519179Z",
     "iopub.status.busy": "2024-05-28T20:24:45.518751Z",
     "iopub.status.idle": "2024-05-28T20:24:45.533953Z",
     "shell.execute_reply": "2024-05-28T20:24:45.532645Z"
    },
    "papermill": {
     "duration": 0.023409,
     "end_time": "2024-05-28T20:24:45.536622",
     "exception": false,
     "start_time": "2024-05-28T20:24:45.513213",
     "status": "completed"
    },
    "tags": []
   },
   "outputs": [
    {
     "data": {
      "text/plain": [
       "Atrito\n",
       "No     83.877551\n",
       "Yes    16.122449\n",
       "Name: proportion, dtype: float64"
      ]
     },
     "execution_count": 6,
     "metadata": {},
     "output_type": "execute_result"
    }
   ],
   "source": [
    "#Pq deixaram a empresa ?\n",
    "taxa_attrition = df['Atrito'].value_counts(normalize=True)\n",
    "taxa_attrition * 100"
   ]
  },
  {
   "cell_type": "code",
   "execution_count": null,
   "id": "f4163bfa",
   "metadata": {
    "papermill": {
     "duration": 0.003783,
     "end_time": "2024-05-28T20:24:45.544529",
     "exception": false,
     "start_time": "2024-05-28T20:24:45.540746",
     "status": "completed"
    },
    "tags": []
   },
   "outputs": [],
   "source": []
  }
 ],
 "metadata": {
  "kaggle": {
   "accelerator": "none",
   "dataSources": [
    {
     "datasetId": 5038041,
     "sourceId": 8453416,
     "sourceType": "datasetVersion"
    }
   ],
   "dockerImageVersionId": 30698,
   "isGpuEnabled": false,
   "isInternetEnabled": false,
   "language": "python",
   "sourceType": "notebook"
  },
  "kernelspec": {
   "display_name": "Python 3",
   "language": "python",
   "name": "python3"
  },
  "language_info": {
   "codemirror_mode": {
    "name": "ipython",
    "version": 3
   },
   "file_extension": ".py",
   "mimetype": "text/x-python",
   "name": "python",
   "nbconvert_exporter": "python",
   "pygments_lexer": "ipython3",
   "version": "3.10.13"
  },
  "papermill": {
   "default_parameters": {},
   "duration": 5.191477,
   "end_time": "2024-05-28T20:24:46.074040",
   "environment_variables": {},
   "exception": null,
   "input_path": "__notebook__.ipynb",
   "output_path": "__notebook__.ipynb",
   "parameters": {},
   "start_time": "2024-05-28T20:24:40.882563",
   "version": "2.5.0"
  }
 },
 "nbformat": 4,
 "nbformat_minor": 5
}
