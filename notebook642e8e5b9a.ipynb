{
 "cells": [
  {
   "cell_type": "code",
   "execution_count": 1,
   "id": "72c16ccc",
   "metadata": {
    "execution": {
     "iopub.execute_input": "2024-05-28T20:14:11.087126Z",
     "iopub.status.busy": "2024-05-28T20:14:11.086716Z",
     "iopub.status.idle": "2024-05-28T20:14:12.024914Z",
     "shell.execute_reply": "2024-05-28T20:14:12.023805Z"
    },
    "papermill": {
     "duration": 0.944643,
     "end_time": "2024-05-28T20:14:12.027343",
     "exception": false,
     "start_time": "2024-05-28T20:14:11.082700",
     "status": "completed"
    },
    "tags": []
   },
   "outputs": [
    {
     "name": "stdout",
     "output_type": "stream",
     "text": [
      "/kaggle/input/employee-data-analysis/manager_survey_data.csv\n",
      "/kaggle/input/employee-data-analysis/employee_survey_data.csv\n",
      "/kaggle/input/employee-data-analysis/general_data.csv\n",
      "Index(['Age', 'Attrition', 'BusinessTravel', 'Department', 'DistanceFromHome',\n",
      "       'Education', 'EducationField', 'EmployeeCount', 'EmployeeID', 'Gender',\n",
      "       'JobLevel', 'JobRole', 'MaritalStatus', 'MonthlyIncome',\n",
      "       'NumCompaniesWorked', 'Over18', 'PercentSalaryHike', 'StandardHours',\n",
      "       'StockOptionLevel', 'TotalWorkingYears', 'TrainingTimesLastYear',\n",
      "       'YearsAtCompany', 'YearsSinceLastPromotion', 'YearsWithCurrManager'],\n",
      "      dtype='object')\n"
     ]
    }
   ],
   "source": [
    "import numpy as np # linear algebra\n",
    "import pandas as pd # data processing, CSV file I/O (e.g. pd.read_csv)\n",
    "import os\n",
    "for dirname, _, filenames in os.walk('/kaggle/input'):\n",
    "    for filename in filenames:\n",
    "        print(os.path.join(dirname, filename))\n",
    "# Carregar o arquivo CSV em um DataFrame\n",
    "df = pd.read_csv('/kaggle/input/employee-data-analysis/general_data.csv')\n",
    "\n",
    "\n",
    "# Visualizar as colunas\n",
    "print(df.columns)"
   ]
  },
  {
   "cell_type": "code",
   "execution_count": 2,
   "id": "2ea63a4b",
   "metadata": {
    "execution": {
     "iopub.execute_input": "2024-05-28T20:14:12.033148Z",
     "iopub.status.busy": "2024-05-28T20:14:12.032782Z",
     "iopub.status.idle": "2024-05-28T20:14:12.053779Z",
     "shell.execute_reply": "2024-05-28T20:14:12.052565Z"
    },
    "papermill": {
     "duration": 0.026446,
     "end_time": "2024-05-28T20:14:12.056019",
     "exception": false,
     "start_time": "2024-05-28T20:14:12.029573",
     "status": "completed"
    },
    "tags": []
   },
   "outputs": [
    {
     "data": {
      "text/plain": [
       "Age\n",
       "35    234\n",
       "34    231\n",
       "31    207\n",
       "36    207\n",
       "29    204\n",
       "32    183\n",
       "30    180\n",
       "38    174\n",
       "33    174\n",
       "40    171\n",
       "37    150\n",
       "28    144\n",
       "27    144\n",
       "42    138\n",
       "39    126\n",
       "45    123\n",
       "41    120\n",
       "26    117\n",
       "46     99\n",
       "44     99\n",
       "43     96\n",
       "50     90\n",
       "24     78\n",
       "25     78\n",
       "49     72\n",
       "47     72\n",
       "55     66\n",
       "48     57\n",
       "51     57\n",
       "53     57\n",
       "52     54\n",
       "54     54\n",
       "22     48\n",
       "58     42\n",
       "23     42\n",
       "56     42\n",
       "21     39\n",
       "20     33\n",
       "59     30\n",
       "19     27\n",
       "18     24\n",
       "60     15\n",
       "57     12\n",
       "Name: count, dtype: int64"
      ]
     },
     "execution_count": 2,
     "metadata": {},
     "output_type": "execute_result"
    }
   ],
   "source": [
    "idade_distribution = df['Age'].value_counts()\n",
    "idade_distribution"
   ]
  },
  {
   "cell_type": "code",
   "execution_count": null,
   "id": "96370bf0",
   "metadata": {
    "papermill": {
     "duration": 0.001782,
     "end_time": "2024-05-28T20:14:12.060000",
     "exception": false,
     "start_time": "2024-05-28T20:14:12.058218",
     "status": "completed"
    },
    "tags": []
   },
   "outputs": [],
   "source": []
  }
 ],
 "metadata": {
  "kaggle": {
   "accelerator": "none",
   "dataSources": [
    {
     "datasetId": 5038041,
     "sourceId": 8453416,
     "sourceType": "datasetVersion"
    }
   ],
   "dockerImageVersionId": 30698,
   "isGpuEnabled": false,
   "isInternetEnabled": false,
   "language": "python",
   "sourceType": "notebook"
  },
  "kernelspec": {
   "display_name": "Python 3",
   "language": "python",
   "name": "python3"
  },
  "language_info": {
   "codemirror_mode": {
    "name": "ipython",
    "version": 3
   },
   "file_extension": ".py",
   "mimetype": "text/x-python",
   "name": "python",
   "nbconvert_exporter": "python",
   "pygments_lexer": "ipython3",
   "version": "3.10.13"
  },
  "papermill": {
   "default_parameters": {},
   "duration": 4.322888,
   "end_time": "2024-05-28T20:14:12.582127",
   "environment_variables": {},
   "exception": null,
   "input_path": "__notebook__.ipynb",
   "output_path": "__notebook__.ipynb",
   "parameters": {},
   "start_time": "2024-05-28T20:14:08.259239",
   "version": "2.5.0"
  }
 },
 "nbformat": 4,
 "nbformat_minor": 5
}
